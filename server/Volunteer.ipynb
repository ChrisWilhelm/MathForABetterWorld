{
 "cells": [
  {
   "cell_type": "code",
   "execution_count": 1,
   "id": "6555e03b-6a45-4924-9195-d58b9e08376a",
   "metadata": {},
   "outputs": [],
   "source": [
    "import pandas as pd\n",
    "from datetime import datetime, timedelta\n",
    "from json import loads, dumps\n",
    "\n",
    "# # FOR VOLUNTEER DATA\n",
    "# df = pd.read_csv('VolunteerData.csv') \n",
    "# i = 0\n",
    "# while i < 1291:\n",
    "#     df = df.drop([i])\n",
    "#     i = i + 1\n",
    "# i = 1333\n",
    "# while i > 1318:\n",
    "#     df = df.drop([i])\n",
    "#     i = i - 1\n",
    "# for i, rows in df.iterrows():\n",
    "#     category = df['What category of food?']\n",
    "#     for j, rows in df[df['What category of food?'] == 'Damage/expired/extra'].iterrows():\n",
    "#         df = df.drop([j])\n",
    "# df = df.drop(columns=['Weight (Numbers only!)', 'What category of food?', 'Unnamed: 4', 'Unnamed: 5', 'Unnamed: 6'])\n",
    "# df = df.reset_index()\n",
    "# times = []\n",
    "# startTimes = []\n",
    "# i = 0\n",
    "# for i, row in df.iterrows():\n",
    "#     dateString = row['Timestamp']\n",
    "#     datetime_object = datetime.strptime(dateString, '%m/%d/%Y %H:%M:%S')\n",
    "#     startTimes.append(datetime.strftime(datetime_object, '%Y-%m-%d %H:%M:%S'))\n",
    "#     datetime_object = datetime_object + timedelta(hours=4)\n",
    "#     times.append(datetime.strftime(datetime_object, '%Y-%m-%d %H:%M:%S'))\n",
    "# df['EndTime'] = times\n",
    "# df['Timestamp'] = startTimes\n",
    "# df = df.drop(columns = ['index'])\n",
    "# df = df[['Timestamp', 'EndTime', 'Name']]\n",
    "# # for i, row in df.iterrows():\n",
    "# #     print('\\t{')\n",
    "# #     print('\\t\\tTimestamp: ' + '\"' + row['Timestamp'] + '\"' + ',')\n",
    "# #     print('\\t\\tEndTime: ' + '\"'+ row['EndTime'] + '\"' +',')\n",
    "# #     print('\\t\\tName: ' + '\"'+ row['Name'] + '\"' +',')\n",
    "# #     print('\\t},')\n",
    "# # print(df[\"Name\"].to_string(index=False))"
   ]
  },
  {
   "cell_type": "code",
   "execution_count": 2,
   "id": "e84c8e65-8105-4c25-b5c0-af47e94a337c",
   "metadata": {},
   "outputs": [],
   "source": [
    "# #FOR IMPORTS\n",
    "# import_df = pd.read_csv('Imports.csv') \n",
    "# import_df = import_df.drop(columns=['Rack Number:', 'Unnamed: 6', 'Unnamed: 7', 'Unnamed: 8'])\n",
    "# times = []\n",
    "# i = 0\n",
    "# for i, row in import_df.iterrows():\n",
    "#     dateString = row['Timestamp']\n",
    "#     datetime_object = datetime.strptime(dateString, '%m/%d/%Y %H:%M:%S')\n",
    "#     times.append(datetime.strftime(datetime_object, '%Y-%m-%d %H:%M:%S'))\n",
    "# import_df['date'] = times\n",
    "# import_df['category'] = import_df['What category of product ']\n",
    "# import_df['name']=import_df['Name']\n",
    "# import_df['distributor']=import_df['Where is the food coming from? ']\n",
    "# import_df['weight']=import_df['Weight'].str.replace(',','')\n",
    "# import_df = import_df.drop(columns = ['Timestamp', 'Name', 'Weight', 'What category of product ', 'Where is the food coming from? '])\n",
    "\n",
    "# import_df['category'] = import_df['category'].apply(lambda x: 'Grains (rice, pasta, etc.)' if x == 'Grains' else x)\n",
    "\n",
    "# # print(\"\\n\".join(import_df[\"name\"].unique()))\n",
    "# # print(import_df[\"name\"].unique())\n",
    "\n",
    "# print('[')\n",
    "# for i, row in import_df.iterrows():\n",
    "#     print('\\t{')\n",
    "#     print('\\t\\tdate: ' + '\"' + row['date'] + '\"' + ',')\n",
    "#     print('\\t\\tname: ' + '\"'+ row['name'] + '\"' +',')\n",
    "#     print('\\t\\tweight: ' + row['weight'] + ',')\n",
    "#     print('\\t\\tcategory: ' + '\"'+ row['category'] + '\"' +',')\n",
    "#     print('\\t\\tdistributor: ' + '\"'+ row['distributor']+ '\"')\n",
    "#     print('\\t},')\n",
    "# print(']')"
   ]
  },
  {
   "cell_type": "code",
   "execution_count": 3,
   "id": "0e6f6674-09d5-48bf-b18d-797b5f3b9adc",
   "metadata": {},
   "outputs": [
    {
     "ename": "FileNotFoundError",
     "evalue": "[Errno 2] No such file or directory: 'Exports.csv'",
     "output_type": "error",
     "traceback": [
      "\u001b[0;31m---------------------------------------------------------------------------\u001b[0m",
      "\u001b[0;31mFileNotFoundError\u001b[0m                         Traceback (most recent call last)",
      "\u001b[0;32m/var/folders/5r/_p7z4vjd0djbm7rn2zqdjblc0000gn/T/ipykernel_24999/1236627693.py\u001b[0m in \u001b[0;36m<module>\u001b[0;34m\u001b[0m\n\u001b[1;32m      1\u001b[0m \u001b[0;31m#FOR EXPORTS\u001b[0m\u001b[0;34m\u001b[0m\u001b[0;34m\u001b[0m\u001b[0m\n\u001b[0;32m----> 2\u001b[0;31m \u001b[0mexport_df\u001b[0m \u001b[0;34m=\u001b[0m \u001b[0mpd\u001b[0m\u001b[0;34m.\u001b[0m\u001b[0mread_csv\u001b[0m\u001b[0;34m(\u001b[0m\u001b[0;34m'Exports.csv'\u001b[0m\u001b[0;34m)\u001b[0m\u001b[0;34m\u001b[0m\u001b[0;34m\u001b[0m\u001b[0m\n\u001b[0m\u001b[1;32m      3\u001b[0m \u001b[0mtimes\u001b[0m \u001b[0;34m=\u001b[0m \u001b[0;34m[\u001b[0m\u001b[0;34m]\u001b[0m\u001b[0;34m\u001b[0m\u001b[0;34m\u001b[0m\u001b[0m\n\u001b[1;32m      4\u001b[0m \u001b[0mi\u001b[0m \u001b[0;34m=\u001b[0m \u001b[0;36m0\u001b[0m\u001b[0;34m\u001b[0m\u001b[0;34m\u001b[0m\u001b[0m\n\u001b[1;32m      5\u001b[0m \u001b[0;32mfor\u001b[0m \u001b[0mi\u001b[0m\u001b[0;34m,\u001b[0m \u001b[0mrow\u001b[0m \u001b[0;32min\u001b[0m \u001b[0mexport_df\u001b[0m\u001b[0;34m.\u001b[0m\u001b[0miterrows\u001b[0m\u001b[0;34m(\u001b[0m\u001b[0;34m)\u001b[0m\u001b[0;34m:\u001b[0m\u001b[0;34m\u001b[0m\u001b[0;34m\u001b[0m\u001b[0m\n",
      "\u001b[0;32m~/opt/anaconda3/lib/python3.9/site-packages/pandas/util/_decorators.py\u001b[0m in \u001b[0;36mwrapper\u001b[0;34m(*args, **kwargs)\u001b[0m\n\u001b[1;32m    309\u001b[0m                     \u001b[0mstacklevel\u001b[0m\u001b[0;34m=\u001b[0m\u001b[0mstacklevel\u001b[0m\u001b[0;34m,\u001b[0m\u001b[0;34m\u001b[0m\u001b[0;34m\u001b[0m\u001b[0m\n\u001b[1;32m    310\u001b[0m                 )\n\u001b[0;32m--> 311\u001b[0;31m             \u001b[0;32mreturn\u001b[0m \u001b[0mfunc\u001b[0m\u001b[0;34m(\u001b[0m\u001b[0;34m*\u001b[0m\u001b[0margs\u001b[0m\u001b[0;34m,\u001b[0m \u001b[0;34m**\u001b[0m\u001b[0mkwargs\u001b[0m\u001b[0;34m)\u001b[0m\u001b[0;34m\u001b[0m\u001b[0;34m\u001b[0m\u001b[0m\n\u001b[0m\u001b[1;32m    312\u001b[0m \u001b[0;34m\u001b[0m\u001b[0m\n\u001b[1;32m    313\u001b[0m         \u001b[0;32mreturn\u001b[0m \u001b[0mwrapper\u001b[0m\u001b[0;34m\u001b[0m\u001b[0;34m\u001b[0m\u001b[0m\n",
      "\u001b[0;32m~/opt/anaconda3/lib/python3.9/site-packages/pandas/io/parsers/readers.py\u001b[0m in \u001b[0;36mread_csv\u001b[0;34m(filepath_or_buffer, sep, delimiter, header, names, index_col, usecols, squeeze, prefix, mangle_dupe_cols, dtype, engine, converters, true_values, false_values, skipinitialspace, skiprows, skipfooter, nrows, na_values, keep_default_na, na_filter, verbose, skip_blank_lines, parse_dates, infer_datetime_format, keep_date_col, date_parser, dayfirst, cache_dates, iterator, chunksize, compression, thousands, decimal, lineterminator, quotechar, quoting, doublequote, escapechar, comment, encoding, encoding_errors, dialect, error_bad_lines, warn_bad_lines, on_bad_lines, delim_whitespace, low_memory, memory_map, float_precision, storage_options)\u001b[0m\n\u001b[1;32m    676\u001b[0m     \u001b[0mkwds\u001b[0m\u001b[0;34m.\u001b[0m\u001b[0mupdate\u001b[0m\u001b[0;34m(\u001b[0m\u001b[0mkwds_defaults\u001b[0m\u001b[0;34m)\u001b[0m\u001b[0;34m\u001b[0m\u001b[0;34m\u001b[0m\u001b[0m\n\u001b[1;32m    677\u001b[0m \u001b[0;34m\u001b[0m\u001b[0m\n\u001b[0;32m--> 678\u001b[0;31m     \u001b[0;32mreturn\u001b[0m \u001b[0m_read\u001b[0m\u001b[0;34m(\u001b[0m\u001b[0mfilepath_or_buffer\u001b[0m\u001b[0;34m,\u001b[0m \u001b[0mkwds\u001b[0m\u001b[0;34m)\u001b[0m\u001b[0;34m\u001b[0m\u001b[0;34m\u001b[0m\u001b[0m\n\u001b[0m\u001b[1;32m    679\u001b[0m \u001b[0;34m\u001b[0m\u001b[0m\n\u001b[1;32m    680\u001b[0m \u001b[0;34m\u001b[0m\u001b[0m\n",
      "\u001b[0;32m~/opt/anaconda3/lib/python3.9/site-packages/pandas/io/parsers/readers.py\u001b[0m in \u001b[0;36m_read\u001b[0;34m(filepath_or_buffer, kwds)\u001b[0m\n\u001b[1;32m    573\u001b[0m \u001b[0;34m\u001b[0m\u001b[0m\n\u001b[1;32m    574\u001b[0m     \u001b[0;31m# Create the parser.\u001b[0m\u001b[0;34m\u001b[0m\u001b[0;34m\u001b[0m\u001b[0m\n\u001b[0;32m--> 575\u001b[0;31m     \u001b[0mparser\u001b[0m \u001b[0;34m=\u001b[0m \u001b[0mTextFileReader\u001b[0m\u001b[0;34m(\u001b[0m\u001b[0mfilepath_or_buffer\u001b[0m\u001b[0;34m,\u001b[0m \u001b[0;34m**\u001b[0m\u001b[0mkwds\u001b[0m\u001b[0;34m)\u001b[0m\u001b[0;34m\u001b[0m\u001b[0;34m\u001b[0m\u001b[0m\n\u001b[0m\u001b[1;32m    576\u001b[0m \u001b[0;34m\u001b[0m\u001b[0m\n\u001b[1;32m    577\u001b[0m     \u001b[0;32mif\u001b[0m \u001b[0mchunksize\u001b[0m \u001b[0;32mor\u001b[0m \u001b[0miterator\u001b[0m\u001b[0;34m:\u001b[0m\u001b[0;34m\u001b[0m\u001b[0;34m\u001b[0m\u001b[0m\n",
      "\u001b[0;32m~/opt/anaconda3/lib/python3.9/site-packages/pandas/io/parsers/readers.py\u001b[0m in \u001b[0;36m__init__\u001b[0;34m(self, f, engine, **kwds)\u001b[0m\n\u001b[1;32m    930\u001b[0m \u001b[0;34m\u001b[0m\u001b[0m\n\u001b[1;32m    931\u001b[0m         \u001b[0mself\u001b[0m\u001b[0;34m.\u001b[0m\u001b[0mhandles\u001b[0m\u001b[0;34m:\u001b[0m \u001b[0mIOHandles\u001b[0m \u001b[0;34m|\u001b[0m \u001b[0;32mNone\u001b[0m \u001b[0;34m=\u001b[0m \u001b[0;32mNone\u001b[0m\u001b[0;34m\u001b[0m\u001b[0;34m\u001b[0m\u001b[0m\n\u001b[0;32m--> 932\u001b[0;31m         \u001b[0mself\u001b[0m\u001b[0;34m.\u001b[0m\u001b[0m_engine\u001b[0m \u001b[0;34m=\u001b[0m \u001b[0mself\u001b[0m\u001b[0;34m.\u001b[0m\u001b[0m_make_engine\u001b[0m\u001b[0;34m(\u001b[0m\u001b[0mf\u001b[0m\u001b[0;34m,\u001b[0m \u001b[0mself\u001b[0m\u001b[0;34m.\u001b[0m\u001b[0mengine\u001b[0m\u001b[0;34m)\u001b[0m\u001b[0;34m\u001b[0m\u001b[0;34m\u001b[0m\u001b[0m\n\u001b[0m\u001b[1;32m    933\u001b[0m \u001b[0;34m\u001b[0m\u001b[0m\n\u001b[1;32m    934\u001b[0m     \u001b[0;32mdef\u001b[0m \u001b[0mclose\u001b[0m\u001b[0;34m(\u001b[0m\u001b[0mself\u001b[0m\u001b[0;34m)\u001b[0m\u001b[0;34m:\u001b[0m\u001b[0;34m\u001b[0m\u001b[0;34m\u001b[0m\u001b[0m\n",
      "\u001b[0;32m~/opt/anaconda3/lib/python3.9/site-packages/pandas/io/parsers/readers.py\u001b[0m in \u001b[0;36m_make_engine\u001b[0;34m(self, f, engine)\u001b[0m\n\u001b[1;32m   1214\u001b[0m             \u001b[0;31m# \"Union[str, PathLike[str], ReadCsvBuffer[bytes], ReadCsvBuffer[str]]\"\u001b[0m\u001b[0;34m\u001b[0m\u001b[0;34m\u001b[0m\u001b[0m\n\u001b[1;32m   1215\u001b[0m             \u001b[0;31m# , \"str\", \"bool\", \"Any\", \"Any\", \"Any\", \"Any\", \"Any\"\u001b[0m\u001b[0;34m\u001b[0m\u001b[0;34m\u001b[0m\u001b[0m\n\u001b[0;32m-> 1216\u001b[0;31m             self.handles = get_handle(  # type: ignore[call-overload]\n\u001b[0m\u001b[1;32m   1217\u001b[0m                 \u001b[0mf\u001b[0m\u001b[0;34m,\u001b[0m\u001b[0;34m\u001b[0m\u001b[0;34m\u001b[0m\u001b[0m\n\u001b[1;32m   1218\u001b[0m                 \u001b[0mmode\u001b[0m\u001b[0;34m,\u001b[0m\u001b[0;34m\u001b[0m\u001b[0;34m\u001b[0m\u001b[0m\n",
      "\u001b[0;32m~/opt/anaconda3/lib/python3.9/site-packages/pandas/io/common.py\u001b[0m in \u001b[0;36mget_handle\u001b[0;34m(path_or_buf, mode, encoding, compression, memory_map, is_text, errors, storage_options)\u001b[0m\n\u001b[1;32m    784\u001b[0m         \u001b[0;32mif\u001b[0m \u001b[0mioargs\u001b[0m\u001b[0;34m.\u001b[0m\u001b[0mencoding\u001b[0m \u001b[0;32mand\u001b[0m \u001b[0;34m\"b\"\u001b[0m \u001b[0;32mnot\u001b[0m \u001b[0;32min\u001b[0m \u001b[0mioargs\u001b[0m\u001b[0;34m.\u001b[0m\u001b[0mmode\u001b[0m\u001b[0;34m:\u001b[0m\u001b[0;34m\u001b[0m\u001b[0;34m\u001b[0m\u001b[0m\n\u001b[1;32m    785\u001b[0m             \u001b[0;31m# Encoding\u001b[0m\u001b[0;34m\u001b[0m\u001b[0;34m\u001b[0m\u001b[0m\n\u001b[0;32m--> 786\u001b[0;31m             handle = open(\n\u001b[0m\u001b[1;32m    787\u001b[0m                 \u001b[0mhandle\u001b[0m\u001b[0;34m,\u001b[0m\u001b[0;34m\u001b[0m\u001b[0;34m\u001b[0m\u001b[0m\n\u001b[1;32m    788\u001b[0m                 \u001b[0mioargs\u001b[0m\u001b[0;34m.\u001b[0m\u001b[0mmode\u001b[0m\u001b[0;34m,\u001b[0m\u001b[0;34m\u001b[0m\u001b[0;34m\u001b[0m\u001b[0m\n",
      "\u001b[0;31mFileNotFoundError\u001b[0m: [Errno 2] No such file or directory: 'Exports.csv'"
     ]
    }
   ],
   "source": [
    "#FOR EXPORTS\n",
    "export_df = pd.read_csv('Exports.csv') \n",
    "times = []\n",
    "i = 0\n",
    "for i, row in export_df.iterrows():\n",
    "    dateString = row['Timestamp']\n",
    "    datetime_object = datetime.strptime(dateString, '%m/%d/%Y %H:%M:%S')\n",
    "    times.append(datetime.strftime(datetime_object, '%Y-%m-%d %H:%M:%S'))\n",
    "export_df['date'] = times\n",
    "export_df['category'] = export_df['What category of product ']\n",
    "export_df['name']=export_df['Name']\n",
    "export_df['donatedTo']=export_df['Client or where the food is going?']\n",
    "export_df['weight']=export_df['Weight of pallet (please only put numbers)'].str.replace(',','')\n",
    "export_df = export_df.drop(columns = ['Timestamp', 'Name', 'Weight of pallet (please only put numbers)', 'What category of product ', 'Client or where the food is going?'])\n",
    "print('[')\n",
    "for i, row in export_df.iterrows():\n",
    "    print('\\t{')\n",
    "    print('\\t\\tdate: ' + '\"' + row['date'] + '\"' + ',')\n",
    "    print('\\t\\tname: ' + '\"'+ row['name'] + '\"' +',')\n",
    "    print('\\t\\tweight: ' + '\"'+ row['weight'] + '\"' +',')\n",
    "    print('\\t\\tcategory: ' + '\"'+ row['category'] + '\"' +',')\n",
    "    print('\\t\\tdonatedTo: ' + '\"'+ row['donatedTo']+ '\"')\n",
    "    print('\\t},')\n",
    "print(']')\n",
    "print('\"' + '\", \\n\"'.join(export_df[\"donatedTo\"].unique().tolist()) + '\"')"
   ]
  },
  {
   "cell_type": "code",
   "execution_count": null,
   "id": "259260f9-6e91-4b90-b818-e64f1a812804",
   "metadata": {},
   "outputs": [],
   "source": []
  }
 ],
 "metadata": {
  "kernelspec": {
   "display_name": "Python 3 (ipykernel)",
   "language": "python",
   "name": "python3"
  },
  "language_info": {
   "codemirror_mode": {
    "name": "ipython",
    "version": 3
   },
   "file_extension": ".py",
   "mimetype": "text/x-python",
   "name": "python",
   "nbconvert_exporter": "python",
   "pygments_lexer": "ipython3",
   "version": "3.9.13"
  },
  "vscode": {
   "interpreter": {
    "hash": "31f2aee4e71d21fbe5cf8b01ff0e069b9275f58929596ceb00d14d90e3e16cd6"
   }
  }
 },
 "nbformat": 4,
 "nbformat_minor": 5
}
